{
 "cells": [
  {
   "cell_type": "code",
   "execution_count": 1,
   "id": "20bf187f",
   "metadata": {},
   "outputs": [
    {
     "name": "stderr",
     "output_type": "stream",
     "text": [
      "[nltk_data] Downloading package crubadan to\n",
      "[nltk_data]     C:\\Users\\d4nie\\AppData\\Roaming\\nltk_data...\n",
      "[nltk_data]   Package crubadan is already up-to-date!\n",
      "[nltk_data] Downloading package omw-1.4 to\n",
      "[nltk_data]     C:\\Users\\d4nie\\AppData\\Roaming\\nltk_data...\n",
      "[nltk_data]   Package omw-1.4 is already up-to-date!\n"
     ]
    }
   ],
   "source": [
    "import sklearn\n",
    "import pandas as pd\n",
    "import numpy as np\n",
    "import matplotlib.pyplot as plt\n",
    "import datetime\n",
    "import os\n",
    "import time\n",
    "from src.data.dataset import Dataset\n",
    "from src.preparation.text_processing import DataFrameTextProcessing\n",
    "from src.visualization.visualization import Visualization"
   ]
  },
  {
   "cell_type": "code",
   "execution_count": 2,
   "id": "c7527148",
   "metadata": {},
   "outputs": [],
   "source": [
    "TO_SAVE = True\n",
    "TO_LOAD = True \n",
    "IS_DEBUG_1PCT = True\n",
    "IS_DEBUG_10PCT = False"
   ]
  },
  {
   "cell_type": "markdown",
   "id": "81d88e9e",
   "metadata": {},
   "source": [
    "# Initial Exploration"
   ]
  },
  {
   "cell_type": "code",
   "execution_count": 3,
   "id": "a39ef363",
   "metadata": {},
   "outputs": [
    {
     "data": {
      "text/html": [
       "<div>\n",
       "<style scoped>\n",
       "    .dataframe tbody tr th:only-of-type {\n",
       "        vertical-align: middle;\n",
       "    }\n",
       "\n",
       "    .dataframe tbody tr th {\n",
       "        vertical-align: top;\n",
       "    }\n",
       "\n",
       "    .dataframe thead th {\n",
       "        text-align: right;\n",
       "    }\n",
       "</style>\n",
       "<table border=\"1\" class=\"dataframe\">\n",
       "  <thead>\n",
       "    <tr style=\"text-align: right;\">\n",
       "      <th></th>\n",
       "      <th>CourseId</th>\n",
       "      <th>Review</th>\n",
       "      <th>Label</th>\n",
       "    </tr>\n",
       "  </thead>\n",
       "  <tbody>\n",
       "    <tr>\n",
       "      <th>0</th>\n",
       "      <td>2-speed-it</td>\n",
       "      <td>BOring</td>\n",
       "      <td>1</td>\n",
       "    </tr>\n",
       "    <tr>\n",
       "      <th>1</th>\n",
       "      <td>2-speed-it</td>\n",
       "      <td>Bravo !</td>\n",
       "      <td>5</td>\n",
       "    </tr>\n",
       "    <tr>\n",
       "      <th>2</th>\n",
       "      <td>2-speed-it</td>\n",
       "      <td>Very goo</td>\n",
       "      <td>5</td>\n",
       "    </tr>\n",
       "    <tr>\n",
       "      <th>3</th>\n",
       "      <td>2-speed-it</td>\n",
       "      <td>Great course - I recommend it for all, especia...</td>\n",
       "      <td>5</td>\n",
       "    </tr>\n",
       "    <tr>\n",
       "      <th>4</th>\n",
       "      <td>2-speed-it</td>\n",
       "      <td>One of the most useful course on IT Management!</td>\n",
       "      <td>5</td>\n",
       "    </tr>\n",
       "    <tr>\n",
       "      <th>5</th>\n",
       "      <td>2-speed-it</td>\n",
       "      <td>I was disappointed because the name is mislead...</td>\n",
       "      <td>3</td>\n",
       "    </tr>\n",
       "    <tr>\n",
       "      <th>6</th>\n",
       "      <td>2-speed-it</td>\n",
       "      <td>Super content. I'll definitely re-do the course</td>\n",
       "      <td>5</td>\n",
       "    </tr>\n",
       "    <tr>\n",
       "      <th>7</th>\n",
       "      <td>2-speed-it</td>\n",
       "      <td>Etant contrôleur de gestion pour le départemen...</td>\n",
       "      <td>5</td>\n",
       "    </tr>\n",
       "  </tbody>\n",
       "</table>\n",
       "</div>"
      ],
      "text/plain": [
       "     CourseId                                             Review  Label\n",
       "0  2-speed-it                                             BOring      1\n",
       "1  2-speed-it                                            Bravo !      5\n",
       "2  2-speed-it                                           Very goo      5\n",
       "3  2-speed-it  Great course - I recommend it for all, especia...      5\n",
       "4  2-speed-it    One of the most useful course on IT Management!      5\n",
       "5  2-speed-it  I was disappointed because the name is mislead...      3\n",
       "6  2-speed-it    Super content. I'll definitely re-do the course      5\n",
       "7  2-speed-it  Etant contrôleur de gestion pour le départemen...      5"
      ]
     },
     "execution_count": 3,
     "metadata": {},
     "output_type": "execute_result"
    }
   ],
   "source": [
    "reviews_dataset = Dataset.load_dataframe(file_name='reviews_by_course.csv', file_path='raw')\n",
    "reviews_dataset.head(8)"
   ]
  },
  {
   "cell_type": "code",
   "execution_count": 4,
   "id": "c91a7c05",
   "metadata": {},
   "outputs": [
    {
     "data": {
      "text/plain": [
       "\"Etant contrôleur de gestion pour le département IT (HQ + Locale), le cours est vraiment intéressant et de très bonne qualité.J'insiste que la qualité et le professionnalisme des professeurs.I'm a controller for an IT department, the courses is very good and very helpful for my job. I recommand you to follow the training.\""
      ]
     },
     "execution_count": 4,
     "metadata": {},
     "output_type": "execute_result"
    }
   ],
   "source": [
    "# posicao 7: texto com lingua francesa e inglesa\n",
    "reviews_dataset.loc[7,'Review']"
   ]
  },
  {
   "cell_type": "markdown",
   "id": "cee2571d",
   "metadata": {},
   "source": [
    "# Filtering the dataset"
   ]
  },
  {
   "cell_type": "code",
   "execution_count": 5,
   "id": "a97f056f",
   "metadata": {},
   "outputs": [
    {
     "data": {
      "text/html": [
       "<div>\n",
       "<style scoped>\n",
       "    .dataframe tbody tr th:only-of-type {\n",
       "        vertical-align: middle;\n",
       "    }\n",
       "\n",
       "    .dataframe tbody tr th {\n",
       "        vertical-align: top;\n",
       "    }\n",
       "\n",
       "    .dataframe thead th {\n",
       "        text-align: right;\n",
       "    }\n",
       "</style>\n",
       "<table border=\"1\" class=\"dataframe\">\n",
       "  <thead>\n",
       "    <tr style=\"text-align: right;\">\n",
       "      <th></th>\n",
       "      <th>Review</th>\n",
       "      <th>Label</th>\n",
       "    </tr>\n",
       "  </thead>\n",
       "  <tbody>\n",
       "    <tr>\n",
       "      <th>0</th>\n",
       "      <td>BOring</td>\n",
       "      <td>1</td>\n",
       "    </tr>\n",
       "    <tr>\n",
       "      <th>1</th>\n",
       "      <td>Bravo !</td>\n",
       "      <td>5</td>\n",
       "    </tr>\n",
       "    <tr>\n",
       "      <th>2</th>\n",
       "      <td>Very goo</td>\n",
       "      <td>5</td>\n",
       "    </tr>\n",
       "    <tr>\n",
       "      <th>3</th>\n",
       "      <td>Great course - I recommend it for all, especia...</td>\n",
       "      <td>5</td>\n",
       "    </tr>\n",
       "    <tr>\n",
       "      <th>4</th>\n",
       "      <td>One of the most useful course on IT Management!</td>\n",
       "      <td>5</td>\n",
       "    </tr>\n",
       "    <tr>\n",
       "      <th>...</th>\n",
       "      <td>...</td>\n",
       "      <td>...</td>\n",
       "    </tr>\n",
       "    <tr>\n",
       "      <th>140315</th>\n",
       "      <td>Trendy topic with talks from expertises in the...</td>\n",
       "      <td>4</td>\n",
       "    </tr>\n",
       "    <tr>\n",
       "      <th>140316</th>\n",
       "      <td>Wonderful! Simple and clear language, good ins...</td>\n",
       "      <td>5</td>\n",
       "    </tr>\n",
       "    <tr>\n",
       "      <th>140317</th>\n",
       "      <td>an interesting and fun course. thanks. dr quincy</td>\n",
       "      <td>5</td>\n",
       "    </tr>\n",
       "    <tr>\n",
       "      <th>140318</th>\n",
       "      <td>very broad perspective, up to date information...</td>\n",
       "      <td>4</td>\n",
       "    </tr>\n",
       "    <tr>\n",
       "      <th>140319</th>\n",
       "      <td>An informative course on the social and financ...</td>\n",
       "      <td>4</td>\n",
       "    </tr>\n",
       "  </tbody>\n",
       "</table>\n",
       "<p>140317 rows × 2 columns</p>\n",
       "</div>"
      ],
      "text/plain": [
       "                                                   Review  Label\n",
       "0                                                  BOring      1\n",
       "1                                                 Bravo !      5\n",
       "2                                                Very goo      5\n",
       "3       Great course - I recommend it for all, especia...      5\n",
       "4         One of the most useful course on IT Management!      5\n",
       "...                                                   ...    ...\n",
       "140315  Trendy topic with talks from expertises in the...      4\n",
       "140316  Wonderful! Simple and clear language, good ins...      5\n",
       "140317   an interesting and fun course. thanks. dr quincy      5\n",
       "140318  very broad perspective, up to date information...      4\n",
       "140319  An informative course on the social and financ...      4\n",
       "\n",
       "[140317 rows x 2 columns]"
      ]
     },
     "execution_count": 5,
     "metadata": {},
     "output_type": "execute_result"
    }
   ],
   "source": [
    "reviews = reviews_dataset[['Review', 'Label']]\n",
    "reviews.dropna()"
   ]
  },
  {
   "cell_type": "code",
   "execution_count": 6,
   "id": "c5fb2943",
   "metadata": {},
   "outputs": [
    {
     "data": {
      "text/plain": [
       "'Great course! Thank you!'"
      ]
     },
     "execution_count": 6,
     "metadata": {},
     "output_type": "execute_result"
    }
   ],
   "source": [
    "reviews.iloc[129]['Review']"
   ]
  },
  {
   "cell_type": "code",
   "execution_count": 7,
   "id": "046bfef5",
   "metadata": {},
   "outputs": [
    {
     "data": {
      "text/plain": [
       "Review    object\n",
       "Label      int64\n",
       "dtype: object"
      ]
     },
     "execution_count": 7,
     "metadata": {},
     "output_type": "execute_result"
    }
   ],
   "source": [
    "reviews.dtypes"
   ]
  },
  {
   "cell_type": "code",
   "execution_count": 8,
   "id": "5dbc9fd4",
   "metadata": {},
   "outputs": [
    {
     "data": {
      "text/plain": [
       "Review    object\n",
       "Label      int64\n",
       "dtype: object"
      ]
     },
     "execution_count": 8,
     "metadata": {},
     "output_type": "execute_result"
    }
   ],
   "source": [
    "reviews['Review'].astype('string')\n",
    "reviews.dtypes"
   ]
  },
  {
   "cell_type": "markdown",
   "id": "34ae29f4",
   "metadata": {},
   "source": [
    "## Sampling (when applicable)"
   ]
  },
  {
   "cell_type": "code",
   "execution_count": 9,
   "id": "3ffcc3cf",
   "metadata": {},
   "outputs": [],
   "source": [
    "if IS_DEBUG_1PCT:\n",
    "    reviews = Dataset.sample_dataframe(reviews, 1)\n",
    "elif IS_DEBUG_10PCT:\n",
    "    reviews = Dataset.sample_dataframe(reviews, 10)"
   ]
  },
  {
   "cell_type": "markdown",
   "id": "4f84362b",
   "metadata": {},
   "source": [
    "## Add Language Column"
   ]
  },
  {
   "cell_type": "code",
   "execution_count": 10,
   "id": "67d512dc",
   "metadata": {},
   "outputs": [],
   "source": [
    "text_processor = DataFrameTextProcessing(language='english')"
   ]
  },
  {
   "cell_type": "code",
   "execution_count": 11,
   "id": "2aa3a9b5",
   "metadata": {},
   "outputs": [],
   "source": [
    "if TO_LOAD:\n",
    "    try:\n",
    "        reviews = Dataset.load_dataframe('Step1_AddLanguageColumn.pkl', file_path='final')\n",
    "    except:\n",
    "        reviews['Language'] = text_processor.predict_language(reviews, text_column='Review', measure_time=True)\n",
    "        if TO_SAVE:\n",
    "            Dataset.save_dataframe(reviews, 'Step1_AddLanguageColumn.pkl', file_path='intermediate')\n",
    "else:\n",
    "    reviews['Language'] = text_processor.predict_language(reviews, text_column='Review', measure_time=True)\n",
    "    if TO_SAVE:\n",
    "        Dataset.save_dataframe(reviews, 'Step1_AddLanguageColumn.pkl', file_path='intermediate')"
   ]
  },
  {
   "cell_type": "code",
   "execution_count": 12,
   "id": "5aace0a3",
   "metadata": {},
   "outputs": [
    {
     "data": {
      "text/html": [
       "<div>\n",
       "<style scoped>\n",
       "    .dataframe tbody tr th:only-of-type {\n",
       "        vertical-align: middle;\n",
       "    }\n",
       "\n",
       "    .dataframe tbody tr th {\n",
       "        vertical-align: top;\n",
       "    }\n",
       "\n",
       "    .dataframe thead th {\n",
       "        text-align: right;\n",
       "    }\n",
       "</style>\n",
       "<table border=\"1\" class=\"dataframe\">\n",
       "  <thead>\n",
       "    <tr style=\"text-align: right;\">\n",
       "      <th></th>\n",
       "      <th>Review</th>\n",
       "      <th>Label</th>\n",
       "      <th>Language</th>\n",
       "    </tr>\n",
       "  </thead>\n",
       "  <tbody>\n",
       "    <tr>\n",
       "      <th>count</th>\n",
       "      <td>1403</td>\n",
       "      <td>1403.000000</td>\n",
       "      <td>1403</td>\n",
       "    </tr>\n",
       "    <tr>\n",
       "      <th>unique</th>\n",
       "      <td>1353</td>\n",
       "      <td>NaN</td>\n",
       "      <td>47</td>\n",
       "    </tr>\n",
       "    <tr>\n",
       "      <th>top</th>\n",
       "      <td>Excellent</td>\n",
       "      <td>NaN</td>\n",
       "      <td>eng</td>\n",
       "    </tr>\n",
       "    <tr>\n",
       "      <th>freq</th>\n",
       "      <td>6</td>\n",
       "      <td>NaN</td>\n",
       "      <td>968</td>\n",
       "    </tr>\n",
       "    <tr>\n",
       "      <th>mean</th>\n",
       "      <td>NaN</td>\n",
       "      <td>4.638632</td>\n",
       "      <td>NaN</td>\n",
       "    </tr>\n",
       "    <tr>\n",
       "      <th>std</th>\n",
       "      <td>NaN</td>\n",
       "      <td>0.802895</td>\n",
       "      <td>NaN</td>\n",
       "    </tr>\n",
       "    <tr>\n",
       "      <th>min</th>\n",
       "      <td>NaN</td>\n",
       "      <td>1.000000</td>\n",
       "      <td>NaN</td>\n",
       "    </tr>\n",
       "    <tr>\n",
       "      <th>25%</th>\n",
       "      <td>NaN</td>\n",
       "      <td>5.000000</td>\n",
       "      <td>NaN</td>\n",
       "    </tr>\n",
       "    <tr>\n",
       "      <th>50%</th>\n",
       "      <td>NaN</td>\n",
       "      <td>5.000000</td>\n",
       "      <td>NaN</td>\n",
       "    </tr>\n",
       "    <tr>\n",
       "      <th>75%</th>\n",
       "      <td>NaN</td>\n",
       "      <td>5.000000</td>\n",
       "      <td>NaN</td>\n",
       "    </tr>\n",
       "    <tr>\n",
       "      <th>max</th>\n",
       "      <td>NaN</td>\n",
       "      <td>5.000000</td>\n",
       "      <td>NaN</td>\n",
       "    </tr>\n",
       "  </tbody>\n",
       "</table>\n",
       "</div>"
      ],
      "text/plain": [
       "           Review        Label Language\n",
       "count        1403  1403.000000     1403\n",
       "unique       1353          NaN       47\n",
       "top     Excellent          NaN      eng\n",
       "freq            6          NaN      968\n",
       "mean          NaN     4.638632      NaN\n",
       "std           NaN     0.802895      NaN\n",
       "min           NaN     1.000000      NaN\n",
       "25%           NaN     5.000000      NaN\n",
       "50%           NaN     5.000000      NaN\n",
       "75%           NaN     5.000000      NaN\n",
       "max           NaN     5.000000      NaN"
      ]
     },
     "execution_count": 12,
     "metadata": {},
     "output_type": "execute_result"
    }
   ],
   "source": [
    "reviews['Language'].astype('string')\n",
    "reviews.describe(include = 'all')"
   ]
  },
  {
   "cell_type": "markdown",
   "id": "07f589c8",
   "metadata": {},
   "source": [
    "## Filtering by English Reviews"
   ]
  },
  {
   "cell_type": "code",
   "execution_count": 13,
   "id": "441fef1c",
   "metadata": {},
   "outputs": [
    {
     "data": {
      "text/html": [
       "<div>\n",
       "<style scoped>\n",
       "    .dataframe tbody tr th:only-of-type {\n",
       "        vertical-align: middle;\n",
       "    }\n",
       "\n",
       "    .dataframe tbody tr th {\n",
       "        vertical-align: top;\n",
       "    }\n",
       "\n",
       "    .dataframe thead th {\n",
       "        text-align: right;\n",
       "    }\n",
       "</style>\n",
       "<table border=\"1\" class=\"dataframe\">\n",
       "  <thead>\n",
       "    <tr style=\"text-align: right;\">\n",
       "      <th></th>\n",
       "      <th>Review</th>\n",
       "      <th>Label</th>\n",
       "      <th>Language</th>\n",
       "    </tr>\n",
       "  </thead>\n",
       "  <tbody>\n",
       "    <tr>\n",
       "      <th>count</th>\n",
       "      <td>968</td>\n",
       "      <td>968.000000</td>\n",
       "      <td>968</td>\n",
       "    </tr>\n",
       "    <tr>\n",
       "      <th>unique</th>\n",
       "      <td>950</td>\n",
       "      <td>NaN</td>\n",
       "      <td>1</td>\n",
       "    </tr>\n",
       "    <tr>\n",
       "      <th>top</th>\n",
       "      <td>Great</td>\n",
       "      <td>NaN</td>\n",
       "      <td>eng</td>\n",
       "    </tr>\n",
       "    <tr>\n",
       "      <th>freq</th>\n",
       "      <td>5</td>\n",
       "      <td>NaN</td>\n",
       "      <td>968</td>\n",
       "    </tr>\n",
       "    <tr>\n",
       "      <th>mean</th>\n",
       "      <td>NaN</td>\n",
       "      <td>4.602273</td>\n",
       "      <td>NaN</td>\n",
       "    </tr>\n",
       "    <tr>\n",
       "      <th>std</th>\n",
       "      <td>NaN</td>\n",
       "      <td>0.827322</td>\n",
       "      <td>NaN</td>\n",
       "    </tr>\n",
       "    <tr>\n",
       "      <th>min</th>\n",
       "      <td>NaN</td>\n",
       "      <td>1.000000</td>\n",
       "      <td>NaN</td>\n",
       "    </tr>\n",
       "    <tr>\n",
       "      <th>25%</th>\n",
       "      <td>NaN</td>\n",
       "      <td>4.000000</td>\n",
       "      <td>NaN</td>\n",
       "    </tr>\n",
       "    <tr>\n",
       "      <th>50%</th>\n",
       "      <td>NaN</td>\n",
       "      <td>5.000000</td>\n",
       "      <td>NaN</td>\n",
       "    </tr>\n",
       "    <tr>\n",
       "      <th>75%</th>\n",
       "      <td>NaN</td>\n",
       "      <td>5.000000</td>\n",
       "      <td>NaN</td>\n",
       "    </tr>\n",
       "    <tr>\n",
       "      <th>max</th>\n",
       "      <td>NaN</td>\n",
       "      <td>5.000000</td>\n",
       "      <td>NaN</td>\n",
       "    </tr>\n",
       "  </tbody>\n",
       "</table>\n",
       "</div>"
      ],
      "text/plain": [
       "       Review       Label Language\n",
       "count     968  968.000000      968\n",
       "unique    950         NaN        1\n",
       "top     Great         NaN      eng\n",
       "freq        5         NaN      968\n",
       "mean      NaN    4.602273      NaN\n",
       "std       NaN    0.827322      NaN\n",
       "min       NaN    1.000000      NaN\n",
       "25%       NaN    4.000000      NaN\n",
       "50%       NaN    5.000000      NaN\n",
       "75%       NaN    5.000000      NaN\n",
       "max       NaN    5.000000      NaN"
      ]
     },
     "execution_count": 13,
     "metadata": {},
     "output_type": "execute_result"
    }
   ],
   "source": [
    "reviews = text_processor.filter_out_other_languages(reviews, 'Language')\n",
    "reviews.describe(include = 'all')"
   ]
  },
  {
   "cell_type": "markdown",
   "id": "1c6701a2",
   "metadata": {},
   "source": [
    "# Label Distribution"
   ]
  },
  {
   "cell_type": "code",
   "execution_count": 14,
   "id": "33c9a85b",
   "metadata": {},
   "outputs": [
    {
     "data": {
      "image/png": "[encoded data removed]",
      "text/plain": [
       "<Figure size 432x288 with 1 Axes>"
      ]
     },
     "metadata": {
      "needs_background": "light"
     },
     "output_type": "display_data"
    }
   ],
   "source": [
    "Visualization.plot_column_by_target(reviews, column='Review',target='Label')"
   ]
  },
  {
   "cell_type": "code",
   "execution_count": 15,
   "id": "787c2127",
   "metadata": {},
   "outputs": [
    {
     "data": {
      "image/png": "[encoded data removed]",
      "text/plain": [
       "<Figure size 432x288 with 1 Axes>"
      ]
     },
     "metadata": {
      "needs_background": "light"
     },
     "output_type": "display_data"
    }
   ],
   "source": [
    "old_to_new_values = {1: -1, 2: -1, 3: 0, 4: 1, 5: 1}\n",
    "\n",
    "def map_old_to_new_labels(value, old_to_new_values): \n",
    "    value = old_to_new_values[value]\n",
    "    return value\n",
    "\n",
    "reviews['TransformedLabel'] = reviews['Label'].map(old_to_new_values)\n",
    "Visualization.plot_column_by_target(reviews, column='Review',target='TransformedLabel')"
   ]
  },
  {
   "cell_type": "code",
   "execution_count": 16,
   "id": "100a8451",
   "metadata": {},
   "outputs": [
    {
     "data": {
      "text/plain": [
       "count    968.000000\n",
       "mean       0.869835\n",
       "std        0.445127\n",
       "min       -1.000000\n",
       "25%        1.000000\n",
       "50%        1.000000\n",
       "75%        1.000000\n",
       "max        1.000000\n",
       "Name: TransformedLabel, dtype: float64"
      ]
     },
     "execution_count": 16,
     "metadata": {},
     "output_type": "execute_result"
    }
   ],
   "source": [
    "reviews['TransformedLabel'].describe()"
   ]
  },
  {
   "cell_type": "markdown",
   "id": "e5ea1f42",
   "metadata": {},
   "source": [
    "# Normalization"
   ]
  },
  {
   "cell_type": "code",
   "execution_count": 17,
   "id": "4d7a3d2f",
   "metadata": {},
   "outputs": [],
   "source": [
    "if TO_LOAD:\n",
    "    try:\n",
    "        reviews = Dataset.load_dataframe('Step2_NormalizeReviews.pkl', file_path='final')\n",
    "    except:\n",
    "        reviews['NormalizedReview'] = text_processor.normalize_df(reviews, 'Review')\n",
    "        if TO_SAVE:\n",
    "            Dataset.save_dataframe(reviews, 'Step2_NormalizeReviews.pkl', file_path='intermediate')\n",
    "else:\n",
    "    reviews['NormalizedReview'] = text_processor.normalize_df(reviews, 'Review')\n",
    "    if TO_SAVE:\n",
    "        Dataset.save_dataframe(reviews, 'Step2_NormalizeReviews.pkl', file_path='intermediate')"
   ]
  },
  {
   "cell_type": "code",
   "execution_count": 18,
   "id": "ad1f14d5",
   "metadata": {},
   "outputs": [
    {
     "data": {
      "text/html": [
       "<div>\n",
       "<style scoped>\n",
       "    .dataframe tbody tr th:only-of-type {\n",
       "        vertical-align: middle;\n",
       "    }\n",
       "\n",
       "    .dataframe tbody tr th {\n",
       "        vertical-align: top;\n",
       "    }\n",
       "\n",
       "    .dataframe thead th {\n",
       "        text-align: right;\n",
       "    }\n",
       "</style>\n",
       "<table border=\"1\" class=\"dataframe\">\n",
       "  <thead>\n",
       "    <tr style=\"text-align: right;\">\n",
       "      <th></th>\n",
       "      <th>NormalizedReview</th>\n",
       "      <th>TransformedLabel</th>\n",
       "    </tr>\n",
       "  </thead>\n",
       "  <tbody>\n",
       "    <tr>\n",
       "      <th>80595</th>\n",
       "      <td>clear useful good choice new learner</td>\n",
       "      <td>1</td>\n",
       "    </tr>\n",
       "    <tr>\n",
       "      <th>68561</th>\n",
       "      <td>learn much great course highly recommend cours...</td>\n",
       "      <td>1</td>\n",
       "    </tr>\n",
       "    <tr>\n",
       "      <th>57935</th>\n",
       "      <td>genial curso aprendí varias cosas.soy usuario ...</td>\n",
       "      <td>1</td>\n",
       "    </tr>\n",
       "    <tr>\n",
       "      <th>104270</th>\n",
       "      <td>second week wietse tol simply brilliant learn ...</td>\n",
       "      <td>0</td>\n",
       "    </tr>\n",
       "    <tr>\n",
       "      <th>120800</th>\n",
       "      <td>enrol week ago find system kick course accompl...</td>\n",
       "      <td>-1</td>\n",
       "    </tr>\n",
       "  </tbody>\n",
       "</table>\n",
       "</div>"
      ],
      "text/plain": [
       "                                         NormalizedReview  TransformedLabel\n",
       "80595                clear useful good choice new learner                 1\n",
       "68561   learn much great course highly recommend cours...                 1\n",
       "57935   genial curso aprendí varias cosas.soy usuario ...                 1\n",
       "104270  second week wietse tol simply brilliant learn ...                 0\n",
       "120800  enrol week ago find system kick course accompl...                -1"
      ]
     },
     "execution_count": 18,
     "metadata": {},
     "output_type": "execute_result"
    }
   ],
   "source": [
    "reviews = reviews[['NormalizedReview', 'TransformedLabel']]\n",
    "reviews.head(5)"
   ]
  },
  {
   "cell_type": "markdown",
   "id": "da19d382",
   "metadata": {},
   "source": [
    "## Vectorization"
   ]
  }
 ],
 "metadata": {
  "kernelspec": {
   "display_name": "kroton",
   "language": "python",
   "name": "kroton"
  },
  "language_info": {
   "codemirror_mode": {
    "name": "ipython",
    "version": 3
   },
   "file_extension": ".py",
   "mimetype": "text/x-python",
   "name": "python",
   "nbconvert_exporter": "python",
   "pygments_lexer": "ipython3",
   "version": "3.9.0"
  }
 },
 "nbformat": 4,
 "nbformat_minor": 5
}
